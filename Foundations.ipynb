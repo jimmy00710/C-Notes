{
 "cells": [
  {
   "cell_type": "markdown",
   "id": "a4063777",
   "metadata": {},
   "source": [
    "# Introduction to C++ "
   ]
  },
  {
   "cell_type": "markdown",
   "id": "e6a2ea2b",
   "metadata": {
    "heading_collapsed": true
   },
   "source": [
    "## Compiled Language \n",
    "C++ is a compiled language; there is a separate program - the compiler - that converts your code to an executable program that the computer can run. This means that running a new C++ program is normally a two step process:\n",
    "\n",
    "- Compile your code with a compiler.\n",
    "- Run the executable file that the compiler outputs."
   ]
  },
  {
   "cell_type": "markdown",
   "id": "f396f172",
   "metadata": {
    "heading_collapsed": true
   },
   "source": [
    "## C++ Main()\n",
    "In C++, every program contains a <code>main</code> function which is executed automatically when the program is run. Every part of a C++ program is run directly or indirectly from main, and the most basic program that will compile in C++ is just a main function with nothing else.\n",
    "\n",
    "<code>main()</code> should return an integer (an int in C++), which indicates if the program exited successfully. This is specified in code by writing the return type, followed by the main function name, followed by empty arguments:\n",
    "\n",
    "```C++\n",
    "int main()\n",
    "```\n",
    "\n",
    "The body of the <code>main()</code>, which comes after the main function name and arguments, is enclosed in curly brackets: <code>{</code> and <code>}</code>.\n",
    "Remember that you can compile and run your program with the following:\n",
    "\n",
    "- To compile, use the following command: g++ main.cpp\n",
    "- To run, use: ./a.out"
   ]
  },
  {
   "cell_type": "markdown",
   "id": "5f09c7a3",
   "metadata": {},
   "source": [
    "## First Code Example\n",
    "\n",
    "```C++\n",
    "#include <iostream>\n",
    "using std::cout;\n",
    "\n",
    "int main() {\n",
    "    cout << \"Hello!\" << \"\\n\";   \n",
    "}\n",
    "```"
   ]
  },
  {
   "cell_type": "markdown",
   "id": "30b40046",
   "metadata": {},
   "source": [
    "### Review\n",
    "\n",
    "`#include <iostream>`\n",
    "\n",
    "- The `#include` is a preprocessor command which is executed before the code is compiled. It searches for the `iostream` header file and pastes its contents into the program. `iostream` contains the declarations for the input/output stream objects.\n",
    "\n",
    "\n",
    "`using std::cout;`\n",
    "\n",
    "- Namespaces are a way in C++ to group identifiers (names) together. They provide context for identifiers to avoid naming collisions. The `std` namespace is the namespace used for the standard library.\n",
    "- The `using` command adds `std::cout` to the global scope of the program. This way you can use `cout` in your code instead of having to write `std::cout`.\n",
    "- `cout` is an output stream you will use to send output to the notebook or to a terminal, if you are using one.\n",
    "- Note that the second two lines in the example end with a semicolon `;`. Coding statements end with a semicolon in C++. The `#include` statement is a preprocessor command, so it doesn't need one.\n",
    "\n",
    "`cout << \"Hello!\" << \"\\n\";`\n",
    "\n",
    "- In this line, the code is using cout to send output to the notebook. The `<<` operator is the stream insertion operator, and it writes what's on the right side of the operator to the left side. So in this case, `\"Message here\"` is written to the output stream `cout`."
   ]
  },
  {
   "cell_type": "markdown",
   "id": "b2b0342c",
   "metadata": {
    "heading_collapsed": true
   },
   "source": [
    "# Primitive Variable Types\n",
    "\n",
    "C++ has several \"primitive\" variable types, which are things like `int`s (integers), `string`s, `float`s, and others. These should be similar to variable types in other programming languages you have used. \n",
    "\n",
    "**Note:** In the cells below, variables will be declared and values assigned. In C++, once a variable has been declared, it can not be redeclared in the same scope. This means that if you try to declare a variable twice in the same function, you will see an error."
   ]
  },
  {
   "cell_type": "code",
   "execution_count": 1,
   "id": "ea2f305d",
   "metadata": {
    "hidden": true
   },
   "outputs": [
    {
     "name": "stdout",
     "output_type": "stream",
     "text": [
      "9\n",
      "Here is a string\n"
     ]
    }
   ],
   "source": [
    "#include <iostream>\n",
    "#include <string>\n",
    "using std::cout;\n",
    "\n",
    "\n",
    "\n",
    "// Declaring and initializing an int variable.\n",
    "int a = 9;\n",
    "\n",
    "// Declaring a string variable without initializing right away.\n",
    "std::string b;\n",
    "\n",
    "// Initializing the string b.\n",
    "b = \"Here is a string\";\n",
    "\n",
    "cout << a << \"\\n\";\n",
    "cout << b << \"\\n\";"
   ]
  },
  {
   "cell_type": "markdown",
   "id": "88f88198",
   "metadata": {
    "hidden": true
   },
   "source": [
    "## Using `auto`\n",
    "\n",
    "In your previous code, the type for each variable was explicitly declared. In general, this is not necessary, and the compiler can determine the type based on the value being assigned. To have the type automatically determined, use the `auto` keyword. You can test this by executing the cell below:\n",
    "\n",
    "```C++\n",
    "#include <iostream>\n",
    "#include <vector>\n",
    "using std::vector;\n",
    "using std::cout;\n",
    "\n",
    "int main() {\n",
    "    auto i = 5;\n",
    "    auto v_6 = {1, 2, 3};\n",
    "    cout << \"Variables declared and initialized without explicitly stating type!\" << \"\\n\";\n",
    "}\n",
    "```"
   ]
  },
  {
   "cell_type": "markdown",
   "id": "8120116e",
   "metadata": {},
   "source": [
    "# Vector Containers"
   ]
  },
  {
   "cell_type": "markdown",
   "id": "ba4f2078",
   "metadata": {},
   "source": [
    "## 1D Vectors\n",
    "\n",
    "C++ also has several container types that can be used for storing data. We will start with `vector`s, as these will be used throughout this lesson, but we will also introduce other container types as needed.\n",
    "\n",
    "Vectors are a sequence of elements of a single type, and have useful methods for getting the size, testing if the vector is empty, and adding elements to the vector."
   ]
  },
  {
   "cell_type": "code",
   "execution_count": 9,
   "id": "367e4e9b",
   "metadata": {},
   "outputs": [
    {
     "name": "stdout",
     "output_type": "stream",
     "text": [
      "Everything worked!\n"
     ]
    }
   ],
   "source": [
    "#include <iostream>\n",
    "#include <vector>\n",
    "using std::vector;\n",
    "using std::cout;\n",
    "\n",
    "\n",
    "// Three ways of declaring and initializing vectors.\n",
    "vector<int> v_1{0, 1, 2};\n",
    "vector<int> v_2 = {3, 4, 5};\n",
    "vector<int> v_3;\n",
    "v_3 = {6};\n",
    "cout << \"Everything worked!\" << \"\\n\";\n"
   ]
  },
  {
   "cell_type": "markdown",
   "id": "7f7e9387",
   "metadata": {},
   "source": [
    "## 1D Vector Access\n",
    "\n",
    "To begin, it is helpful to know how to access vector elements of an existing vector. Execute the cells below to see how this can be done:"
   ]
  },
  {
   "cell_type": "code",
   "execution_count": 6,
   "id": "8548518c",
   "metadata": {},
   "outputs": [
    {
     "name": "stdout",
     "output_type": "stream",
     "text": [
      "012\n"
     ]
    }
   ],
   "source": [
    "#include <iostream>\n",
    "#include <vector>\n",
    "using std::vector;\n",
    "using std::cout;\n",
    "\n",
    "\n",
    "vector<int> a1 = {0, 1, 2, 3, 4};\n",
    "cout << a1[0];\n",
    "cout << a1[1];\n",
    "cout << a1[2];\n",
    "cout << \"\\n\";"
   ]
  },
  {
   "cell_type": "code",
   "execution_count": 7,
   "id": "078df922",
   "metadata": {},
   "outputs": [
    {
     "name": "stdout",
     "output_type": "stream",
     "text": [
      "586199440"
     ]
    }
   ],
   "source": [
    "cout<<a1[10];"
   ]
  },
  {
   "cell_type": "markdown",
   "id": "7b02ffaf",
   "metadata": {},
   "source": [
    "If you tried to access the elements of `a` using an out-of-bound index, you might have noticed that there is no error or exception thrown. If you haven't seen this already, try the following code in the cell above to see what happens:\n",
    "```C++\n",
    "cout << a1[10];\n",
    "```\n",
    "In this case, *the behavior is undefined*, so you can not depend on a certain value to be returned. "
   ]
  },
  {
   "cell_type": "markdown",
   "id": "e44aad76",
   "metadata": {},
   "source": [
    "## 1D Vector Length\n",
    "\n",
    "One method of a `vector` object that will be useful in the next code exercise is the `.size()` method. This returns the length of the vector. Execute the cell below to see how this can be used:\n",
    "\n",
    "```C++\n",
    "\n",
    "#include <iostream>\n",
    "#include <vector>\n",
    "using std::vector;\n",
    "using std::cout;\n",
    "\n",
    "int main() {\n",
    "    vector<int> a = {0, 1, 2, 3, 4};\n",
    "    \n",
    "    // Print the length of vector a to the console.\n",
    "    cout << a.size() << \"\\n\";\n",
    "}\n",
    "```"
   ]
  },
  {
   "cell_type": "markdown",
   "id": "b6716391",
   "metadata": {},
   "source": [
    "## 2D Vectors"
   ]
  },
  {
   "cell_type": "code",
   "execution_count": 2,
   "id": "2698ba5f",
   "metadata": {},
   "outputs": [
    {
     "name": "stdout",
     "output_type": "stream",
     "text": [
      "Great! A 2D vector has been created.\n"
     ]
    }
   ],
   "source": [
    "#include <iostream>\n",
    "#include <vector>\n",
    "using std::vector;\n",
    "using std::cout;\n",
    "\n",
    "// Creating a 2D vector.\n",
    "vector<vector<int>> v {{1,2}, {3,4}};\n",
    "cout << \"Great! A 2D vector has been created.\" << \"\\n\";\n"
   ]
  },
  {
   "cell_type": "markdown",
   "id": "3a83a30c",
   "metadata": {},
   "source": [
    "## 2D Vector Access\n",
    "\n",
    "```C++\n",
    "#include <iostream>\n",
    "#include <vector>\n",
    "using std::vector;\n",
    "using std::cout;\n",
    "\n",
    "int main() {\n",
    "    vector<vector<int>> b = {{1, 1, 2, 3},\n",
    "                             {2, 1, 2, 3},\n",
    "                             {3, 1, 2, 3}};\n",
    "    cout<<b[0][0];\n",
    "    cout<<b[0][1];\n",
    "    cout<<b[0][2];\n",
    "    cout<<b[0][3];\n",
    "    cout<<\"\\n\";\n",
    "    cout<<b[1][0];\n",
    "    cout<<b[1][1];\n",
    "    cout<<b[1][2];\n",
    "    cout<<b[1][3];\n",
    "    cout<<\"\\n\";\n",
    "    cout<<b[2][0];\n",
    "    cout<<b[2][1];\n",
    "    cout<<b[2][2];\n",
    "    cout<<b[2][3];\n",
    "    cout<<\"\\n\";\n",
    "}\n",
    "\n",
    "```"
   ]
  },
  {
   "cell_type": "markdown",
   "id": "60a9a87e",
   "metadata": {},
   "source": [
    "## Vector push_back\n",
    "\n",
    "Now that you are able to process a string, you may want to store the results of the processing in a convenient container for later use. In the next exercise, you will store the streamed `int`s from each line of the board in a `vector<int>`. To do this, you will add the `int`s to the back of the vector, using the `vector` method `push_back`:"
   ]
  },
  {
   "cell_type": "code",
   "execution_count": 3,
   "id": "eccecb8f",
   "metadata": {},
   "outputs": [
    {
     "name": "stdout",
     "output_type": "stream",
     "text": [
      "1\n",
      "2\n",
      "3\n"
     ]
    }
   ],
   "source": [
    "#include <vector>\n",
    "#include <iostream>\n",
    "using std::vector;\n",
    "using std::cout;\n",
    "\n",
    "\n",
    "// Initial Vector\n",
    "vector v1 {1, 2, 3};\n",
    "\n",
    "// Print the contents of the vector\n",
    "for (int i=0; i < v1.size(); i++) {\n",
    "  cout << v1[i] << \"\\n\";\n",
    "}"
   ]
  },
  {
   "cell_type": "code",
   "execution_count": 4,
   "id": "1cd1a093",
   "metadata": {},
   "outputs": [
    {
     "name": "stdout",
     "output_type": "stream",
     "text": [
      "1\n",
      "2\n",
      "3\n",
      "4\n"
     ]
    }
   ],
   "source": [
    "// Push 4 to the back of the vector\n",
    "v1.push_back(4);\n",
    "\n",
    "// Print the contents again\n",
    "for (int i=0; i < v1.size(); i++) {\n",
    "  cout << v1[i] << \"\\n\";\n",
    "}\n"
   ]
  },
  {
   "attachments": {
    "image.png": {
     "image/png": "[encoded data removed]"
    }
   },
   "cell_type": "markdown",
   "id": "8491f51e",
   "metadata": {},
   "source": [
    "## Vector Storage \n",
    "\n",
    "It roughly looks like this \n",
    "\n",
    "<img>![image.png](attachment:image.png)</img>\n",
    "\n",
    "\n",
    "\n",
    "The <code>std::vector</code> instance you have on the stack is a small object containing a pointer to a heap-allocated buffer, plus some extra variables to keep track of the size and and capacity of the vector.\n",
    "\n",
    "> So it seems as though when I <code>push_back()</code> to the numbers vector, its older elements change their location\n",
    "\n",
    "The heap-allocated buffer has a fixed capacity. When you reach the end of the buffer, a new buffer will be allocated somewhere else on the heap and all the previous elements will be moved into the new one. Their addresses will therefore change.\n",
    "\n",
    "> Does it maybe store them together, but moves them all together, when more space is needed?\n",
    "\n",
    "Roughly, yes. Iterator and address stability of elements is guaranteed with std::vector only if no reallocation takes place.\n",
    "\n",
    "> I am aware, that std::vector is a contiguous container only since C++17\n",
    "\n",
    "The memory layout of <code>std::</code> vector hasn't changed since its first appearance in the Standard. ContiguousContainer is just a \"concept\" that was added to differentiate contiguous containers from others at compile-time.\n"
   ]
  },
  {
   "cell_type": "markdown",
   "id": "5b284699",
   "metadata": {},
   "source": [
    "## Reference\n",
    "- [stackoverflow answer](https://stackoverflow.com/questions/52330010/what-does-stdvector-look-like-in-memory)\n",
    "- [amazing blog series on vector](https://krshrimali.github.io/posts/2020/04/understanding-how-vectors-work-in-c-part-3-diving-deep-into-member-functions-of-vectors/)\n",
    "- [vector basics](https://embeddedartistry.com/blog/2017/06/21/an-introduction-to-stdvector/)"
   ]
  },
  {
   "cell_type": "markdown",
   "id": "acc04bc5",
   "metadata": {},
   "source": [
    "# Functions\n",
    "\n",
    "> <code>return_type FunctionName(parameter_list) {\n",
    "  // Body of function here.\n",
    "} </code>\n",
    "\n",
    "## Void Return Type\n",
    "\n",
    "Sometimes a function doesn't need to return anything. For example, a function might simply modify an object that is passed into it, or it might just print to the terminal. If a function doesn't need to return a value, the `void` type can be used for the return type."
   ]
  },
  {
   "cell_type": "markdown",
   "id": "dad79300",
   "metadata": {},
   "source": [
    "## Passing Values\n",
    "In the following example, the _value_ of `int i` is passed to the function `MultiplyByTwo`. Look carefully at the code and try to guess what the output will be before you execute it. When you are finished executing, click the button for an explanation.\n",
    "\n",
    "```C++\n",
    "#include <iostream>\n",
    "using std::cout;\n",
    "\n",
    "\n",
    "int MultiplyByTwo(int i) {\n",
    "    i = 2*i;\n",
    "    return i;\n",
    "}\n",
    "\n",
    "int main() {\n",
    "    int a = 5;\n",
    "    cout << \"The int a equals: \" << a << \"\\n\";\n",
    "    int b = MultiplyByTwo(a);\n",
    "    cout << \"The int b equals: \" << b << \"\\n\";\n",
    "    cout << \"The int a still equals: \" << a << \"\\n\";\n",
    "}\n",
    "```\n",
    "\n",
    "In the code above, `a` is passed by value to the function, so the variable `a` is not affected by what happens inside the function."
   ]
  },
  {
   "cell_type": "markdown",
   "id": "31dff783",
   "metadata": {},
   "source": [
    "## Passing References\n",
    "\n",
    "But what if we wanted to change the value of `a` itself? For example, it might be that the variable you are passing into a function maintains some state in the program, and you want to write the function to update that state. \n",
    "\n",
    "It turns out, it is possible to modify `a` from within the function. To do this, you must pass a _reference_ to the variable `a`, instead of the _value_ of `a`. In C++, _a reference is just an alternative name for the same variable_.\n",
    "\n",
    "To pass by reference, you simply need to add an ampersand `&` before the variable in the function declaration. Try the code below to see how this works:"
   ]
  },
  {
   "cell_type": "markdown",
   "id": "32ab949c",
   "metadata": {},
   "source": [
    "```C++\n",
    "#include <iostream>\n",
    "using std::cout;\n",
    "\n",
    "\n",
    "int MultiplyByTwo(int &i) {\n",
    "    i = 2*i;\n",
    "    return i;\n",
    "}\n",
    "\n",
    "int main() {\n",
    "    int a = 5;\n",
    "    cout << \"The int a equals: \" << a << \"\\n\";\n",
    "    int b = MultiplyByTwo(a);\n",
    "    cout << \"The int b equals: \" << b << \"\\n\";\n",
    "    cout << \"The int a now equals: \" << a << \"\\n\";\n",
    "}\n",
    "```"
   ]
  },
  {
   "cell_type": "markdown",
   "id": "37fc9230",
   "metadata": {},
   "source": [
    "# File Input Streams\n",
    "\n",
    "## Creating an Input Stream Object\n",
    "\n",
    "In C++, you can use the `std::ifstream` object to handle input file streams. To do this, you will need to include the header file that provides the file streaming classes: `<fstream>`. "
   ]
  },
  {
   "cell_type": "markdown",
   "id": "ed3c94f2",
   "metadata": {},
   "source": [
    "Once the `<fstream>` header is included, a new input stream object can be declared and initialized using a file path `path`:\n",
    "```C++\n",
    "std::ifstream my_file;\n",
    "my_file.open(path);\n",
    "```"
   ]
  },
  {
   "cell_type": "markdown",
   "id": "5a227782",
   "metadata": {},
   "source": [
    "Alternatively, the declaration and initialization can be done in a single line as follows:\n",
    "```\n",
    "std::ifstream my_file(path);\n",
    "```\n",
    "C++ `ifstream` objects can also be used as a boolean to check if the stream has been created successfully. If the stream were to initialize successfully, then the `ifstream` object would evaluate to `true`. If there were to be an error opening the file or some other error creating the stream, then the `ifstream` object would evaluate to `false`.\n",
    "\n",
    "The following cell creates an input stream from the file `\"files/1.board\"`:\n",
    "\n",
    "```C++\n",
    "#include <fstream>\n",
    "#include <iostream>\n",
    "#include <string>\n",
    "\n",
    "int main()\n",
    "{\n",
    "    std::ifstream my_file;\n",
    "    my_file.open(\"files/1.board\");\n",
    "    if (my_file) {\n",
    "      std::cout << \"The file stream has been created!\" << \"\\n\";\n",
    "    }    \n",
    "}\n",
    "\n",
    "```"
   ]
  },
  {
   "cell_type": "markdown",
   "id": "c494813b",
   "metadata": {},
   "source": [
    "## Reading Data from the Stream\n",
    "\n",
    "If the input file stream object has been successfully created, the lines of the input stream can be read using the `getline` method. In the cell below, a while loop has been added to the previous example to get each line from the stream and print it to the console.\n",
    "\n",
    "```C++\n",
    "#include <fstream>\n",
    "#include <iostream>\n",
    "#include <string>\n",
    "\n",
    "int main() {\n",
    "    std::ifstream my_file;\n",
    "    my_file.open(\"files/1.board\");\n",
    "    if (my_file) {\n",
    "        std::cout << \"The file stream has been created!\" << \"\\n\";\n",
    "        std::string line;\n",
    "        while (getline(my_file, line)) {\n",
    "            std::cout << line << \"\\n\";\n",
    "        }\n",
    "    }\n",
    "}\n",
    "```"
   ]
  },
  {
   "cell_type": "code",
   "execution_count": null,
   "id": "e8198e94",
   "metadata": {},
   "outputs": [],
   "source": []
  },
  {
   "cell_type": "markdown",
   "id": "95ab1cf6",
   "metadata": {},
   "source": [
    "# Pointers"
   ]
  },
  {
   "cell_type": "markdown",
   "id": "efabd59c",
   "metadata": {},
   "source": [
    "## Definition\n",
    "\n",
    "Pointers have traditionally been a stumbling block for many students learning C++, but they do not need to be!\n",
    "\n",
    "> <i>A C++ pointer is just a variable that stores the memory address of an object in your program.</i>\n",
    "\n",
    "That is the most important thing to understand and remember about pointers - they essentially keep track of where a variable is stored in the computer's memory."
   ]
  },
  {
   "cell_type": "markdown",
   "id": "ee9e7c1d",
   "metadata": {},
   "source": [
    "A C++ program can be written without using pointers extensively (or at all). However, pointers give you better control over how your program uses memory. However, much like the pass-by-reference example that you saw previously, it can often be far more efficient to perform an operation with a pointer to an object than performing the same operation using the object itself."
   ]
  },
  {
   "cell_type": "markdown",
   "id": "d1f663ff",
   "metadata": {},
   "source": [
    "## Accessing a Memory Address\n",
    "\n",
    "Each variable in a program stores its contents in the computer's memory, and each chunk of the memory has an address number. For a given variable, the memory address can be accessed using an ampersand in front of the variable. To see an example of this, execute the following code which displays the [hexadecimal](https://en.wikipedia.org/wiki/Hexadecimal) memory addresses of the variables `i` and `j`:"
   ]
  },
  {
   "cell_type": "code",
   "execution_count": 1,
   "id": "592749a5",
   "metadata": {},
   "outputs": [
    {
     "name": "stdout",
     "output_type": "stream",
     "text": [
      "The address of o1 is: 0x7f63ea704024\n",
      "The address of o2 is: 0x7f63ea704028\n"
     ]
    }
   ],
   "source": [
    "#include <iostream>\n",
    "using std::cout;\n",
    "\n",
    "\n",
    "int o1 = 5;\n",
    "int o2 = 6;\n",
    "\n",
    "// Print the memory addresses of i and j\n",
    "cout << \"The address of o1 is: \" << &o1 << \"\\n\";\n",
    "cout << \"The address of o2 is: \" << &o2 << \"\\n\";"
   ]
  },
  {
   "cell_type": "markdown",
   "id": "c15698ea",
   "metadata": {},
   "source": [
    "At this point, you might be wondering why the same symbol `&` can be used to both access memory addresses and, as you've seen before, pass references into a function. This is a great thing to wonder about. The overloading of the ampersand symbol `&` and the `*` symbol probably contribute to much of the confusion around pointers.\n",
    "\n",
    "> **The symbols `&` and `*` have a different meaning, depending on which side of an equation they appear.**\n",
    "\n",
    "_This is extremely important to remember._ For the `&` symbol, if it appears on the left side of an equation (e.g. when declaring a variable), it means that the variable is declared as a reference. If the `&` appears on the right side of an equation, or before a previously defined variable, it is used to return a memory address, as in the example above."
   ]
  },
  {
   "cell_type": "markdown",
   "id": "b09f0305",
   "metadata": {},
   "source": [
    "## Storing a Memory Address (int type)\n",
    "\n",
    "Once a memory address is accessed, you can store it using a pointer. A pointer can be declared by using the `*` operator in the declaration. See the following code for an example:"
   ]
  },
  {
   "cell_type": "code",
   "execution_count": 2,
   "id": "847fa293",
   "metadata": {},
   "outputs": [
    {
     "name": "stdout",
     "output_type": "stream",
     "text": [
      "The address of i is:          0x7f63ea704030\n",
      "The variable pointer_to_i is: 0x7f63ea704030\n"
     ]
    }
   ],
   "source": [
    "#include <iostream>\n",
    "using std::cout;\n",
    "\n",
    "\n",
    "\n",
    "int i = 5;\n",
    "// A pointer pointer_to_i is declared and initialized to the address of i.\n",
    "int* pointer_to_i = &i;\n",
    "\n",
    "// Print the memory addresses of i and j\n",
    "cout << \"The address of i is:          \" << &i << \"\\n\";\n",
    "cout << \"The variable pointer_to_i is: \" << pointer_to_i << \"\\n\";"
   ]
  },
  {
   "cell_type": "markdown",
   "id": "3c46d9de",
   "metadata": {},
   "source": [
    "As you can see from the code, the variable pointer_to_i is declared as a pointer to an int using the * symbol, and pointer_to_i is set to the address of i. From the printout, it can be seen that pointer_to_i holds the same value as the address of i."
   ]
  },
  {
   "cell_type": "markdown",
   "id": "bea128b1",
   "metadata": {},
   "source": [
    "## Getting an Object Back from a Pointer Address\n",
    "\n",
    "Once you have a pointer, you may want to retrieve the object it is pointing to. In this case, the `*` symbol can be used again. This time, however, it will appear on the right hand side of an equation or in front of an already-defined variable, so the meaning is different. In this case, it is called the \"dereferencing operator\", and it returns the object being pointed to. You can see how this works with the code below:"
   ]
  },
  {
   "cell_type": "code",
   "execution_count": 2,
   "id": "83f12aa1",
   "metadata": {},
   "outputs": [
    {
     "name": "stdout",
     "output_type": "stream",
     "text": [
      "The address of i is:          0x7fbcd43cd038\n",
      "The variable pointer_to_i is: 0x7fbcd43cd038\n",
      "The value of the variable pointed to by pointer_to_i is: 5\n"
     ]
    }
   ],
   "source": [
    "#include <iostream>\n",
    "using std::cout;\n",
    "\n",
    "\n",
    "\n",
    "int i = 5;\n",
    "// A pointer pointer_to_i is declared and initialized to the address of i.\n",
    "int* pointer_to_i = &i;\n",
    "\n",
    "// Print the memory addresses of i and j\n",
    "cout << \"The address of i is:          \" << &i << \"\\n\";\n",
    "cout << \"The variable pointer_to_i is: \" << pointer_to_i << \"\\n\";\n",
    "cout << \"The value of the variable pointed to by pointer_to_i is: \" << *pointer_to_i << \"\\n\";"
   ]
  },
  {
   "cell_type": "markdown",
   "id": "fed84836",
   "metadata": {},
   "source": [
    "In the following example, the code is similar to above, except that the object that is being pointed to is changed before the pointer is dereferenced. Before executing the following code, guess what you think will happen to the value of the dereferenced pointer."
   ]
  },
  {
   "cell_type": "code",
   "execution_count": 1,
   "id": "a7b54cdc",
   "metadata": {},
   "outputs": [
    {
     "name": "stdout",
     "output_type": "stream",
     "text": [
      "The address of i is:          0x7fbcd43cd028\n",
      "The variable pointer_to_i is: 0x7fbcd43cd028\n",
      "The new value of the variable i is                     : 7\n",
      "The value of the variable pointed to by pointer_to_i is: 7\n"
     ]
    }
   ],
   "source": [
    "#include <iostream>\n",
    "using std::cout;\n",
    "\n",
    "\n",
    "int i = 5;\n",
    "// A pointer pointer_to_i is declared and initialized to the address of i.\n",
    "int* pointer_to_i = &i;\n",
    "\n",
    "// Print the memory addresses of i and j\n",
    "cout << \"The address of i is:          \" << &i << \"\\n\";\n",
    "cout << \"The variable pointer_to_i is: \" << pointer_to_i << \"\\n\";\n",
    "\n",
    "// The value of i is changed.\n",
    "i = 7;\n",
    "cout << \"The new value of the variable i is                     : \" << i << \"\\n\";\n",
    "cout << \"The value of the variable pointed to by pointer_to_i is: \" << *pointer_to_i << \"\\n\";"
   ]
  },
  {
   "cell_type": "markdown",
   "id": "57ab19ac",
   "metadata": {},
   "source": [
    "## Pointers to Other Object Types\n",
    "\n",
    "Although the type of object being pointed to must be included in a pointer declaration, pointers hold the same kind of value for every type of object: just a memory address to where the object is stored. In the following code, a vector is declared. Write your own code to create a pointer to the address of that vector. Then, dereference your pointer and print the value of the first item in the vector."
   ]
  },
  {
   "cell_type": "code",
   "execution_count": 4,
   "id": "a5c3ad86",
   "metadata": {},
   "outputs": [
    {
     "name": "stdout",
     "output_type": "stream",
     "text": [
      "1\n",
      "2\n",
      "3\n",
      "1\n"
     ]
    }
   ],
   "source": [
    "#include <iostream>\n",
    "#include <vector>\n",
    "using std::cout;\n",
    "using std::vector;\n",
    "\n",
    "\n",
    "// Vector v is declared and initialized to {1, 2, 3}\n",
    "vector<int> v {1, 2, 3};\n",
    "\n",
    "// Declare and initialize a pointer to the address of v here:\n",
    "vector<int> *pointer_to_v = &v;\n",
    "// The following loops over each int a in the vector v and prints.\n",
    "// Note that this uses a \"range-based\" for loop:\n",
    "// https://github.com/isocpp/CppCoreGuidelines/blob/master/CppCoreGuidelines.md#Res-for-range\n",
    "for (int a: v) {\n",
    "    cout << a << \"\\n\";\n",
    "}\n",
    "\n",
    "// Dereference your pointer to v and print the int at index 0 here (note: you should print 1):\n",
    "cout << (*pointer_to_v)[0];\n",
    "cout << \"\\n\";"
   ]
  },
  {
   "cell_type": "markdown",
   "id": "d7e7e1ef",
   "metadata": {},
   "source": [
    "Passing Pointers to a Function\n",
    "Pointers can be used in another form of pass-by-reference when working with functions. When used in this context, they work much like the references that you used for pass-by reference previously. If the pointer is pointing to a large object, it can be much more efficient to pass the pointer to a function than to pass a copy of the object as with pass-by-value."
   ]
  },
  {
   "cell_type": "code",
   "execution_count": 11,
   "id": "276e81b3",
   "metadata": {},
   "outputs": [],
   "source": [
    "void AddOne(int* j)\n",
    "{\n",
    "    // Dereference the pointer and increment the int being pointed to.\n",
    "    (*j)++;\n",
    "}"
   ]
  },
  {
   "cell_type": "code",
   "execution_count": 12,
   "id": "c9f9fb23",
   "metadata": {},
   "outputs": [
    {
     "name": "stdout",
     "output_type": "stream",
     "text": [
      "The value of i is: 1\n",
      "The value of i is now: 2\n"
     ]
    }
   ],
   "source": [
    "#include <iostream>\n",
    "using std::cout;\n",
    "\n",
    "int i = 1;\n",
    "cout << \"The value of i is: \" << i << \"\\n\";\n",
    "\n",
    "// Declare a pointer to i:\n",
    "int* pi = &i;\n",
    "AddOne(pi);\n",
    "cout << \"The value of i is now: \" << i << \"\\n\";"
   ]
  },
  {
   "cell_type": "markdown",
   "id": "d6bd531e",
   "metadata": {},
   "source": [
    "When using pointers with functions, some care should be taken. If a pointer is passed to a function and then assigned to a variable in the function that goes out of scope after the function finishes executing, then the pointer will have undefined behavior at that point - the memory it is pointing to might be overwritten by other parts of the program."
   ]
  },
  {
   "cell_type": "markdown",
   "id": "9630c80f",
   "metadata": {},
   "source": [
    "## Returning a Pointer from a Function\n",
    "\n",
    "You can also return a pointer from a function. As mentioned just above, if you do this, you must be careful that the object being pointed to doesn't go out of scope when the function finishes executing. If the object goes out of scope, the memory address being pointed to might then be used for something else.\n",
    "\n",
    "In the example below, a reference is passed into a function and a pointer is returned. This is safe since the pointer being returned points to a reference - a variable that exists outside of the function and will not go out of scope in the function."
   ]
  },
  {
   "cell_type": "code",
   "execution_count": 13,
   "id": "094b4208",
   "metadata": {},
   "outputs": [],
   "source": [
    "int* AddOne(int& j) \n",
    "{\n",
    "    // Increment the referenced int and return the\n",
    "    // address of j.\n",
    "    j++;\n",
    "    cout<<\"The address of j is\" << &j << \"\\n\";;\n",
    "    return &j;\n",
    "}"
   ]
  },
  {
   "cell_type": "code",
   "execution_count": 15,
   "id": "d1731adc",
   "metadata": {},
   "outputs": [
    {
     "name": "stdout",
     "output_type": "stream",
     "text": [
      "The value of i is: 1\n",
      "The address of i is 0x7fbcd43cd098\n"
     ]
    }
   ],
   "source": [
    "int i = 1;\n",
    "cout << \"The value of i is: \" << i << \"\\n\";\n",
    "\n",
    "// Declare a pointer and initialize to the value\n",
    "// returned by AddOne:\n",
    "cout << \"The address of i is \"<< &i << \"\\n\";"
   ]
  },
  {
   "cell_type": "code",
   "execution_count": 16,
   "id": "ca2c1306",
   "metadata": {},
   "outputs": [
    {
     "name": "stdout",
     "output_type": "stream",
     "text": [
      "The address of j is0x7fbcd43cd098\n",
      "The value of i is now: 0x7fbcd43cd098\n",
      "The value of the int pointed to by my_pointer is: 2\n"
     ]
    }
   ],
   "source": [
    "int *my_pointer = AddOne(i);\n",
    "cout << \"The value of i is now: \" << my_pointer << \"\\n\";\n",
    "cout << \"The value of the int pointed to by my_pointer is: \" << *my_pointer << \"\\n\";"
   ]
  },
  {
   "cell_type": "markdown",
   "id": "7543f20d",
   "metadata": {},
   "source": [
    "# Dictionary\n",
    "\n",
    "In the cell below, we have created a hash table (`unordered_map`) to store the data from the example above. To create an `unordered_map` in C++, you must include the `<unordered_map>` header, and the sytnax for declaring an `unordered_map` is as follows:\n",
    "```cpp\n",
    "unordered_map <key_type, value_type> variable_name;\n",
    "```\n",
    "In the code below, we check if the `key` is in the `unordered_map` using the `.find()` method. If the key does not exist in the map, then `.find()` returns an `unordered_map::end()` type. Otherwise, `.find()` returns a [C++ iterator](http://www.cplusplus.com/reference/iterator/), which is a pointer that points to the beginning of the iterable key-value pair. \n",
    "\n",
    "We haven't covered iterators in this course, and you won't need them for this project, but they are a lot like pointers that can \"iterate\" forward or backward through a range."
   ]
  },
  {
   "cell_type": "markdown",
   "id": "2e7ebf1e",
   "metadata": {},
   "source": [
    "\n",
    "```C++\n",
    "\n",
    "#include <iostream>\n",
    "#include <vector>\n",
    "#include <unordered_map>\n",
    "#include <string>\n",
    "using std::vector;\n",
    "using std::cout;\n",
    "using std::unordered_map;\n",
    "using std::string;\n",
    "\n",
    "\n",
    "\n",
    "// Create strings to use in the hash table.\n",
    "string key = \"word\";\n",
    "string def_1 = \"a unit of language, consisting of one or more spoken sounds or their written representation, that functions as a principal carrier of meaning\";\n",
    "string def_2 = \"speech or talk: to express one's emotion in words\";\n",
    "string def_3 = \"a short talk or conversation: 'Marston, I'd like a word with you.'\";\n",
    "string def_4 = \"an expression or utterance: a word of warning\";\n",
    "unordered_map <string, vector<string>> my_dictionary;\n",
    "\n",
    "// Check if key is in the hash table.\n",
    "if (my_dictionary.find(key) == my_dictionary.end()) {\n",
    "    cout << \"The key 'word' is not in the dictionary.\" << \"\\n\";\n",
    "    cout << \"Inserting a key-value pair into the dictionary.\" << \"\\n\\n\";\n",
    "    // Set the value for the key.\n",
    "    my_dictionary[key] = vector<string> {def_1, def_2, def_3, def_4};\n",
    "}\n",
    "    \n",
    "// The key should now be in the hash table. You can access the\n",
    "// value corresponding to the key with square brackets [].\n",
    "// Here, the value my_dictionary[key] is a vector of strings.\n",
    "// We iterate over the vector and print the strings.\n",
    "cout << key << \": \\n\";\n",
    "auto definitions = my_dictionary[key];\n",
    "for (string definition : definitions) {\n",
    "    cout << definition << \"\\n\";\n",
    "}\n",
    "```"
   ]
  },
  {
   "cell_type": "markdown",
   "id": "4b43544f",
   "metadata": {},
   "source": [
    "# Structures "
   ]
  },
  {
   "cell_type": "markdown",
   "id": "15216556",
   "metadata": {},
   "source": [
    "## What are Classes \n",
    "\n",
    "Classes are user defined data types. A programming language comes with its own predefined data types (int, char, float) but when we are building some project or application we need some domain specific data type. Lets say if we want to build a Maths related application we will need a differentiation, integration. For that we can build these classes. "
   ]
  },
  {
   "cell_type": "markdown",
   "id": "f5ab48e1",
   "metadata": {},
   "source": [
    "Structures allow developers to create their own types (\"user-defined\" types) to aggregate data relevant to their needs.\n",
    "For example, a user might define a Rectangle structure to hold data about rectangles used in a program.\n",
    "```\n",
    "struct Rectangle {\n",
    "  float length;\n",
    "  float width;\n",
    "};\n",
    "```\n"
   ]
  },
  {
   "cell_type": "markdown",
   "id": "d222e6c8",
   "metadata": {},
   "source": [
    "## User Defined Types"
   ]
  },
  {
   "cell_type": "markdown",
   "id": "58a8aed9",
   "metadata": {},
   "source": [
    "Structures are \"user-defined\" types. Structures are a way for programmers to create types that aggregate and store data in way that makes sense in the context of a program.\n",
    "\n",
    "For example, C++ does not have a fundamental type for storing a date. (The Standard Library does include types related to time, which can be converted to dates.)\n",
    "\n",
    "A programmer might desire to create a type to store a date.\n",
    "\n",
    "Consider the following example:\n",
    "\n",
    "```\n",
    "\n",
    "struct Date {\n",
    "  int day;\n",
    "  int month;\n",
    "  int year;\n",
    "};\n",
    "\n",
    "```\n",
    "\n",
    "The code above creates a structure containing three \"member variables\" of type int: day, month and year.\n",
    "\n",
    "If you then create an \"instance\" of this structure, you can initialize these member variables:\n",
    "\n",
    "\n",
    "```\n",
    "// Create an instance of the Date structure\n",
    "Date date;\n",
    "// Initialize the attributes of Date\n",
    "date.day = 1;\n",
    "date.month = 10;\n",
    "date.year = 2019;\n",
    "```"
   ]
  },
  {
   "cell_type": "markdown",
   "id": "4684a225",
   "metadata": {},
   "source": [
    "### Member Initialization \n",
    "\n",
    "Generally, we want to avoid instantiating an object with undefined members. Ideally, we would like all members of an object to be in a valid state once the object is instantiated. We can change the values of the members later, but we want to avoid any situation in which the members are ever in an invalid state or undefined.\n",
    "\n",
    "Multiple ways are shown to do this. Following are the two ways to do it. \n",
    "\n",
    "```\n",
    "struct Date {\n",
    "  int day{1};\n",
    "  int month{1};\n",
    "  int year{0};\n",
    "};\n",
    "\n",
    "```\n",
    "\n",
    "```\n",
    "struct Date {\n",
    "  int day=1;\n",
    "  int month=1;\n",
    "  int year=2000;\n",
    "};\n",
    "\n",
    "```"
   ]
  },
  {
   "cell_type": "markdown",
   "id": "91445ace",
   "metadata": {},
   "source": [
    "### Access Specifier"
   ]
  },
  {
   "cell_type": "markdown",
   "id": "7520e23c",
   "metadata": {},
   "source": [
    "Members of a structure can be specified as **public** or **private**\n",
    "\n",
    "> Private members of a class are accessible only from within other member functions of the same class (or from their \"friends\", which we’ll talk about later)."
   ]
  },
  {
   "cell_type": "markdown",
   "id": "28409ea2",
   "metadata": {},
   "source": [
    "### Accessors And Mutators\n",
    "\n",
    "To access private members, we typically define public \"accessor\" and \"mutator\" member functions (sometimes called \"getter\" and \"setter\" functions).\n",
    "\n",
    "> ```\n",
    "struct Date {\n",
    " public:\n",
    "  int Day() { return day; }\n",
    "  void Day(int day) { this.day = day; }\n",
    "  int Month() { return month; }\n",
    "  void Month(int month) { this.month = month; }\n",
    "  int Year() { return year; }\n",
    "  void Year(int year) { this.year = year; }\n",
    "> ```\n",
    ">```\n",
    " private:\n",
    "  int day{1};\n",
    "  int month{1};\n",
    "  int year{0};\n",
    "};\n",
    ">```\n",
    "\n",
    "\n",
    "```C++\n",
    "#include <cassert>\n",
    "#include <iostream>\n",
    "\n",
    "// TODO: Define public accessors and mutators for the private member variables\n",
    "struct Date {\n",
    " public:\n",
    "    int Day(){\n",
    "        return day;\n",
    "    }\n",
    "    void Day(int d){\n",
    "        if (d>0 & d < 32){\n",
    "        day = d;\n",
    "        }\n",
    "    }\n",
    "    \n",
    "    int Month(){\n",
    "        return month;\n",
    "    }\n",
    "    void Month(int m){\n",
    "        if ((month > 0) & (month < 13)){\n",
    "        month = m;\n",
    "        }\n",
    "    }\n",
    "    \n",
    "    int Year(){\n",
    "        return year;\n",
    "    }\n",
    "    \n",
    "    void Year(int y){\n",
    "        year = y;\n",
    "    }\n",
    " private:\n",
    "  int day{1};\n",
    "  int month{1};\n",
    "  int year{0};\n",
    "};\n",
    "\n",
    "int main() {\n",
    "  Date date;\n",
    "  date.Day(29);\n",
    "  date.Month(8);\n",
    "  date.Year(1981);\n",
    "  assert(date.Day() == 29);\n",
    "  assert(date.Month() == 8);\n",
    "  assert(date.Year() == 1981);\n",
    "  std::cout << date.Day() << \"/\" << date.Month() << \"/\" << date.Year() << \"\\n\";\n",
    "}\n",
    "```"
   ]
  },
  {
   "cell_type": "markdown",
   "id": "207a28aa",
   "metadata": {},
   "source": [
    "> **Avoid Trivial Getters And Setters --> The C++ Core Guidelines recommend, \"A trivial getter or setter adds no semantic value; the data item could just as well be public.\"**\n",
    "\n"
   ]
  },
  {
   "cell_type": "markdown",
   "id": "d75fa129",
   "metadata": {},
   "source": [
    "# Classes"
   ]
  },
  {
   "cell_type": "markdown",
   "id": "65bd4a76",
   "metadata": {},
   "source": [
    "\n",
    "Classes, like structures, provide a way for C++ programmers to aggregate data together in a way that makes sense in the context of a specific program. By convention, programmers use structures when member variables are independent of each other, and [use classes when member variables are related by an \"invariant\".](http://isocpp.github.io/CppCoreGuidelines/CppCoreGuidelines#c2-use-class-if-the-class-has-an-invariant-use-struct-if-the-data-members-can-vary-independently)"
   ]
  },
  {
   "cell_type": "markdown",
   "id": "ae19477c",
   "metadata": {},
   "source": [
    "## Invariants\n",
    "\n",
    "An \"invariant\" is a rule that limits the values of member variables.\n",
    "\n",
    "For example, in a `Date` class, an invariant would specify that the member variable `day` cannot be less than 0. Another invariant would specify that the value of `day` cannot exceed 28, 29, 30, or 31, depending on the `month` and `year`. Yet another invariant would limit the value of `month` to the range of 1 to 12."
   ]
  },
  {
   "cell_type": "markdown",
   "id": "58e539e9",
   "metadata": {},
   "source": [
    "**example**\n",
    "\n",
    "```C++\n",
    "#include <iostream>\n",
    "#include <cassert>\n",
    "\n",
    "//Date Class \n",
    "class Date{\n",
    "    public:\n",
    "    int Day(){\n",
    "        return day; \n",
    "    }\n",
    "    void Day(int d){\n",
    "        if (d >= 1 & d <= 31) day = d;\n",
    "    }\n",
    "    \n",
    "    //Accessors \n",
    "    int Month(){\n",
    "        return month;\n",
    "    }\n",
    "    \n",
    "    //Date Invariants --> The condition we have put\n",
    "    void Month(int m){\n",
    "        if (m >= 1 & m <= 12) month = m; \n",
    "    }\n",
    "    \n",
    "    \n",
    "    //Date accessors to access the year.\n",
    "    int Year(){\n",
    "        return year;\n",
    "    }\n",
    "    \n",
    "    \n",
    "    //Date mutator to mutate or change the value of year. \n",
    "    void Year(int y){\n",
    "        year = y;\n",
    "    }\n",
    "     \n",
    "    private:\n",
    "    int day{1};\n",
    "    int month{2};\n",
    "    int year{1980};\n",
    "};\n",
    "\n",
    "\n",
    "// Test in main\n",
    "int main()\n",
    "{\n",
    "    Date date;\n",
    "    date.Day(-1);\n",
    "    date.Month(14);\n",
    "    date.Year(2000);\n",
    "    assert(date.Day() != -1);\n",
    "    assert(date.Month() != 14);\n",
    "    assert(date.Year() == 2000);\n",
    "}\n",
    "\n",
    "```"
   ]
  },
  {
   "cell_type": "markdown",
   "id": "66147bcd",
   "metadata": {},
   "source": [
    "## Constructors\n",
    "\n",
    "> an operation that initializes (“constructs”) an object. Typically a constructor establishes an invariant and often acquires resources needed for an object to be used (which are then typically released by a destructor).\n",
    "\n",
    "**example**\n",
    "```C++\n",
    "class Date {\n",
    " public:\n",
    "  Date(int d, int m, int y) {  // This is a constructor.\n",
    "    Day(d);\n",
    "  }\n",
    "  int Day() { return day; }\n",
    "  void Day(int d) {\n",
    "    if (d >= 1 && d <= 31) day = d;\n",
    "  }\n",
    "  int Month() { return month; }\n",
    "  void Month(int m) {\n",
    "    if (m >= 1 && m <= 12) month = m;\n",
    "  }\n",
    "  int Year() { return year_; }\n",
    "  void Year(int y) { year = y; }\n",
    "\n",
    " private:\n",
    "  int day{1};\n",
    "  int month{1};\n",
    "  int year{0};\n",
    "};\n",
    "\n",
    "```"
   ]
  },
  {
   "cell_type": "markdown",
   "id": "cfe23950",
   "metadata": {},
   "source": [
    "### Default Constructor\n",
    "\n",
    "We can initialize an object of this class, even though this class does not explicitly define a constructor.\n",
    "\n",
    "This is possible because of the [default constructor](http://isocpp.github.io/CppCoreGuidelines/CppCoreGuidelines#cctor-constructors-assignments-and-destructors)\n",
    "\n",
    "[The compiler will define a default constructor](https://en.cppreference.com/w/cpp/language/default_constructor) which accepts no arguments, for any class or structure that does not contain an explicitly-defined constructor."
   ]
  },
  {
   "cell_type": "markdown",
   "id": "0096647e",
   "metadata": {},
   "source": [
    "## Scope Resolution"
   ]
  },
  {
   "cell_type": "markdown",
   "id": "dfeb2864",
   "metadata": {},
   "source": [
    "C++ allows different identifiers (variable and function names) to have the same name, as long as they have different scope. For example, two different functions can each declare the variable int i, because each variable only exists within the scope of its parent function.\n",
    "\n",
    "In some cases, scopes can overlap, in which case the compiler may need assistance in determining which identifier the programmer means to use. The process of determining which identifier to use is called **\"scope resolution\".**"
   ]
  },
  {
   "cell_type": "markdown",
   "id": "0e731275",
   "metadata": {},
   "source": [
    "### Score Resolution Operator :: "
   ]
  },
  {
   "cell_type": "markdown",
   "id": "469307f6",
   "metadata": {},
   "source": [
    "```::``` is the scope resolution operator. We can use this operator to specify which namespace or class to search in order to resolve an identifier.\n",
    "\n",
    "```\n",
    "Person::move(); \\\\ Call the move the function that is a member of the Person class.\n",
    "std::map m; \\\\ Initialize the map container from the C++ Standard Library.  \n",
    "```"
   ]
  },
  {
   "cell_type": "markdown",
   "id": "98e08665",
   "metadata": {},
   "source": [
    "### Class"
   ]
  },
  {
   "cell_type": "markdown",
   "id": "f8fe4b57",
   "metadata": {},
   "source": [
    "Each class provides its own scope. We can use the scope resolution operator to specify identifiers from a class.\n",
    "\n",
    "This becomes particularly useful if we want to separate class declaration from class definition.\n",
    "\n",
    "**example**\n",
    "```C++\n",
    "class Date {\n",
    " public:\n",
    "  int Day() const { return day; }\n",
    "  void Day(int day);  // Declare member function Date::Day().\n",
    "  int Month() const { return month; }\n",
    "  void Month(int month) {\n",
    "    if (month >= 1 && month <= 12) Date::month = month;\n",
    "  }\n",
    "  int Year() const { return year; }\n",
    "  void Year(int year) { Date::year = year; }\n",
    "\n",
    " private:\n",
    "  int day{1};\n",
    "  int month{1};\n",
    "  int year{0};\n",
    "};\n",
    "\n",
    "// Define member function Date::Day().\n",
    "void Date::Day(int day) {\n",
    "  if (day >= 1 && day <= 31) Date::day = day;\n",
    "}\n",
    "```"
   ]
  },
  {
   "cell_type": "markdown",
   "id": "909bb06c",
   "metadata": {},
   "source": [
    "### Namespaces\n",
    "\n",
    "[Namespaces](https://en.cppreference.com/w/cpp/language/namespace) allow programmers to group logically related variables and functions together. Namespaces also help to avoid conflicts between to variables that have the same name in different parts of a program.\n",
    "\n",
    "``` C++\n",
    "namespace English {\n",
    "void Hello() { std::cout << \"Hello, World!\\n\"; }\n",
    "}  // namespace English\n",
    "\n",
    "namespace Spanish {\n",
    "void Hello() { std::cout << \"Hola, Mundo!\\n\"; }\n",
    "}  // namespace Spanish\n",
    "\n",
    "int main() {\n",
    "  English::Hello();\n",
    "  Spanish::Hello();\n",
    "}\n",
    "```\n"
   ]
  },
  {
   "cell_type": "markdown",
   "id": "832a95a1",
   "metadata": {},
   "source": [
    "### Initializer List\n",
    "\n",
    "[Initializer List](https://en.cppreference.com/w/cpp/language/initializer_list) initialize member variables to specific values, just before the class constructor runs. This initialization ensures that class members are automatically initialized when an instance of the class is created.\n",
    "\n",
    " Initialization sets the value as soon as the object exists, whereas assignment sets the value only after the object comes into being. This means that assignment creates and opportunity to accidentally use a variable before its value is set.\n",
    "\n",
    "In fact, initialization lists ensure that member variables are initialized before the object is created.\n",
    "\n",
    "**example**\n",
    "\n",
    "```C++\n",
    "class Date {\n",
    " public:\n",
    "  Date(int d,int m, int y);\n",
    "  int Day() { return day; }\n",
    "  void Day(int d) {\n",
    "    if (d >= 1 && d <= 31) day = d;\n",
    "  }\n",
    "  int Month() { return month; }\n",
    "  void Month(int m) {\n",
    "    if (m >= 1 && m <= 12) month = m;\n",
    "  }\n",
    "  int Year() { return year_; }\n",
    "  void Year(int y) { year = y; }\n",
    "\n",
    " private:\n",
    "  int day{1};\n",
    "  int month{1};\n",
    "  int year{0};\n",
    "};\n",
    "\n",
    "Date::Date(int d, int m, int y) : year(y) {  // This is a constructor.\n",
    "    Day(d);\n",
    "  }\n",
    "\n",
    "```"
   ]
  },
  {
   "cell_type": "markdown",
   "id": "c6c7d39a",
   "metadata": {},
   "source": [
    "In the above example we have defined **y** by an initializer list. It means ```private variable y``` can hold value before the object is created. Means it can hold -1, -2 or anything. Now the question arises why we have not defined day and month value? \n",
    "\n",
    "\n",
    "\n",
    "The thing is that day and month has some **```invariants```**. That is they have condition and if we define them before creating the variable they will bypass these conditions. That's why we have not defined them using initializer list. "
   ]
  },
  {
   "cell_type": "markdown",
   "id": "354c982d",
   "metadata": {},
   "source": [
    "**Reasons Why Initializer List Exist** \n",
    "\n",
    "* The compiler can optimize initialization faster from an initialization list than from within the constructor.\n",
    "* A second reason is a bit of a technical paradox. If you have a **```const```** class attribute, you can only initialize it using an initialization list. Otherwise, you would violate the **```const```** keyword simply by initializing the member in the constructor!\n",
    "* The third reason is that attributes defined as [references](http://isocpp.github.io/CppCoreGuidelines/CppCoreGuidelines#S-glossary) must use initialization lists\n",
    "\n",
    "```C++\n",
    "#include <assert.h>\n",
    "#include <string>\n",
    "\n",
    "struct Person {\n",
    "public:\n",
    "  // TODO: Add an initialization list\n",
    "  \n",
    "  Person(std::string const &n): name(n){};  \n",
    "  std::string const name;\n",
    "};\n",
    "\n",
    "// Test\n",
    "int main() {\n",
    "  Person alice(\"Alice\");\n",
    "  Person bob(\"Bob\");\n",
    "  assert(alice.name != bob.name);\n",
    "}\n",
    "\n",
    "```"
   ]
  },
  {
   "cell_type": "markdown",
   "id": "3f01c22c",
   "metadata": {},
   "source": [
    "## Encapsulation"
   ]
  },
  {
   "cell_type": "markdown",
   "id": "b4b1d889",
   "metadata": {},
   "source": [
    "[Encapsulation](https://en.wikipedia.org/wiki/Encapsulation_(computer_programming%29) is the grouping together of data and logic into a single unit. In object-oriented programming, classes encapsulate data and functions that operate on that data."
   ]
  },
  {
   "cell_type": "markdown",
   "id": "5ef5ede2",
   "metadata": {},
   "source": [
    "## Accessor and Mutator Function "
   ]
  },
  {
   "cell_type": "markdown",
   "id": "1b24a3e5",
   "metadata": {},
   "source": [
    "### Accessors\n",
    "\n",
    "Accessor functions are public member functions that allow users to access an object's data, albeit indirectly.\n",
    "\n",
    "**```const```**\n",
    "\n",
    "Accessors should only retrieve data. They should not change the data stored in the object. The main role of the ```const``` specifier in accessor methods is to protect member data. When you specify a member function as ```const```, the compiler will prohibit that function from changing any of the object's member data."
   ]
  },
  {
   "cell_type": "markdown",
   "id": "a8a9d9fd",
   "metadata": {},
   "source": [
    "Example -->\n",
    "\n",
    "```C++\n",
    "#include <iostream>\n",
    "#include <string>\n",
    "\n",
    "class BankAccount\n",
    "{\n",
    "  private:\n",
    "      // TODO: declare member variables\n",
    "    long int account_number;\n",
    "    std::string owner_name;\n",
    "    double available_funds;\n",
    "\n",
    "  public:\n",
    "      // TODO: declare setters\n",
    "    void setOwnerName(std::string name); \n",
    "    void setAccountNumber(long int account_number);\n",
    "    void setAvailableFunds(double available_funds);\n",
    "\n",
    "      // TODO: declare getters\n",
    "    std::string getOwner() const;\n",
    "    long int getAccountNumber() const;\n",
    "    double getAvailableFunds() const;\n",
    "};\n",
    "\n",
    "// TODO: implement setters\n",
    "void BankAccount::setOwnerName(std::string name){\n",
    "    BankAccount::owner_name = name;\n",
    "}\n",
    "\n",
    "void BankAccount::setAccountNumber(long int account_number){\n",
    "    BankAccount::account_number = account_number;\n",
    "}\n",
    "\n",
    "void BankAccount::setAvailableFunds(double available_funds){\n",
    "    BankAccount::available_funds = available_funds;\n",
    "}\n",
    "\n",
    "// TODO: implement getters\n",
    "std::string BankAccount::getOwner() const {\n",
    "    return BankAccount::owner_name;\n",
    "}\n",
    "\n",
    "long int BankAccount::getAccountNumber() const {\n",
    "    return BankAccount::account_number;\n",
    "}\n",
    "\n",
    "double BankAccount::getAvailableFunds() const {\n",
    "    return BankAccount::available_funds;\n",
    "}\n",
    "\n",
    "int main(){\n",
    "    // TODO: instantiate and output a bank account\n",
    "    BankAccount ba;\n",
    "    ba.setAvailableFunds(100);\n",
    "\n",
    "  std::cout << ba.getAvailableFunds() << std::endl;\n",
    "}\n",
    "```"
   ]
  },
  {
   "cell_type": "markdown",
   "id": "77eadb8f",
   "metadata": {},
   "source": [
    "### Mutators \n",
    "\n",
    "A mutator (\"setter\") function can apply logic (\"invariants\") when updating member data."
   ]
  },
  {
   "cell_type": "markdown",
   "id": "cd864674",
   "metadata": {},
   "source": [
    "Example -->\n",
    "\n",
    "```C++\n",
    "#include <string>\n",
    "#include <cstring>\n",
    "#include <iostream>\n",
    "\n",
    "class Car {\n",
    "    // TODO: Declare private attributes\n",
    "    private:\n",
    "    int horsepower;\n",
    "    int weight;\n",
    "    char *brand; \n",
    "    \n",
    "    // TODO: Declare getter and setter for brand\n",
    "    public:\n",
    "    //setter function\n",
    "    void setHorsePower(int horsepower);\n",
    "    void setWeight(int weight);\n",
    "    void setBrand(std::string brand);\n",
    "    \n",
    "    // getter function\n",
    "    int getHorsePower() const;\n",
    "    int getWeight() const;\n",
    "    std::string getBrand() const;\n",
    "        \n",
    "};\n",
    "\n",
    "// Define setters\n",
    "void Car::setHorsePower(int horsepower){\n",
    "    Car::horsepower = horsepower;\n",
    "}\n",
    "\n",
    "void Car::setWeight(int weight){\n",
    "    Car::weight = weight;\n",
    "}\n",
    "\n",
    "void Car::setBrand(std::string brand){\n",
    "    Car::brand = new char[brand.length() + 1];\n",
    "    \n",
    "    strcpy(Car::brand, brand.c_str());\n",
    "    \n",
    "} \n",
    "\n",
    "// Define getters\n",
    "int Car::getHorsePower() const{\n",
    "    return Car::horsepower;\n",
    "}\n",
    "\n",
    "int Car::getWeight() const{\n",
    "    return Car::weight;\n",
    "}\n",
    "\n",
    "std::string Car::getBrand() const{\n",
    "    std::string result = \"\";\n",
    "    result += Car::brand;\n",
    "    return result;\n",
    "    \n",
    "}\n",
    "\n",
    "// Test in main()\n",
    "int main() \n",
    "{\n",
    "    Car car;\n",
    "    car.setBrand(\"Peugeot\");\n",
    "    std::cout << car.getBrand() << \"\\n\";   \n",
    "}\n",
    "```"
   ]
  },
  {
   "cell_type": "markdown",
   "id": "66bbbb54",
   "metadata": {},
   "source": [
    "### Examples\n",
    "\n",
    "Your goal in this lab is to write a class called Student that will hold data about a particular student. Your class simply needs to store the data and provide accessors and mutators.\n",
    "\n",
    "**Directions**\n",
    "\n",
    "Add 3 private member variables to the class:\n",
    "* Name\n",
    "* Grade (e.g. 9th grade)\n",
    "* Grade Point Average\n",
    "\n",
    "Write a public constructor function to set the private attributes.\n",
    "\n",
    "Create public member functions to set each of the member variables. Before setting the values verify that:\n",
    "* Grade is from 0 (kindergarten) to 12\n",
    "* GPA is from 0.0 to 4.0\n",
    "* The function must either throw an exception if any of the invariants are violated\n",
    "* Within the main() (outside of the class), declare an object of type Student and test out each of the member function calls.\n",
    "\n",
    "\n",
    "\n",
    "``` C++\n",
    "#include <cassert>\n",
    "#include <stdexcept>\n",
    "#include <string>\n",
    "\n",
    "using std::string;\n",
    "\n",
    "// TODO: Define \"Student\" class\n",
    "class Student {\n",
    " public:\n",
    "  // constructor\n",
    "  Student(string name, int grade, float gpa) : name_(name), grade_(grade), gpa_(gpa) {\n",
    "      Validate();\n",
    "  }\n",
    "  // accessors\n",
    "  string Name() const {\n",
    "      return name_;\n",
    "  }\n",
    "  int Grade() const {\n",
    "      return grade_;\n",
    "  }\n",
    "  float GPA() const {\n",
    "      return gpa_;\n",
    "  }\n",
    "    \n",
    "  // mutators\n",
    "  void Name(string name) {\n",
    "      name_ = name;\n",
    "      Validate();\n",
    "  }\n",
    "  void Grade(int grade) {\n",
    "      grade_ = grade;\n",
    "      Validate();\n",
    "  }\n",
    "  void GPA(float gpa) {\n",
    "      gpa_ = gpa;\n",
    "      Validate();\n",
    "  }\n",
    "\n",
    " private:\n",
    " string name_;\n",
    " int grade_;\n",
    " float gpa_;\n",
    " void Validate() {\n",
    "     if(Grade() < 0 || Grade() > 12 || GPA() < 0.0 || GPA() > 4.0)\n",
    "         throw std::invalid_argument(\"argument out of bounds\");\n",
    " }\n",
    "};\n",
    "\n",
    "// TODO: Test\n",
    "int main() {\n",
    "    Student david(\"David Silver\", 10, 4.0);\n",
    "    assert(david.Name() == \"David Silver\");\n",
    "    assert(david.Grade() == 10);\n",
    "    assert(david.GPA() == 4.0);\n",
    "    \n",
    "    bool caught{false};\n",
    "    try {\n",
    "        david.Grade(20);\n",
    "    }\n",
    "    catch(...) {\n",
    "        caught = true;\n",
    "    }\n",
    "    assert(caught);\n",
    "}\n",
    "\n",
    "```"
   ]
  },
  {
   "cell_type": "markdown",
   "id": "f834e690",
   "metadata": {},
   "source": [
    "## Examples"
   ]
  },
  {
   "cell_type": "markdown",
   "id": "5584a22f",
   "metadata": {},
   "source": [
    "Declare:\n",
    "\n",
    "A constructor function that takes the radius as an argument\n",
    "A member function that returns the volume\n",
    "Directions\n",
    "* Define a class called Sphere.\n",
    "* Add one private member variable: radius.\n",
    "* Define a constructor to initialize the radius.\n",
    "* Define an accessor method that returns the radius.\n",
    "* Define a member function to return the volume of the sphere.\n",
    "* Write a ```main()``` function to initialize an object of type ```Sphere```.\n",
    "\n",
    "\n",
    "``` C++\n",
    "#include <cassert>\n",
    "#include <cmath>\n",
    "#include <stdexcept>\n",
    "\n",
    "// TODO: Define class Sphere\n",
    "class Sphere {\n",
    " public:\n",
    "    Sphere( int radius):_radius(radius),_volume(pi*4/3*pow(radius,3)){\n",
    "        if(radius <= 0) throw std::invalid_argument(\"radius must be positive\");\n",
    "    }\n",
    "  // Constructor\n",
    "\n",
    "  // Accessors\n",
    "    int Radius(){return _radius;}\n",
    "    \n",
    "    float Volume(){\n",
    "        return _volume;\n",
    "    }\n",
    "\n",
    " private:\n",
    "  // Private members\n",
    "    int const _radius;\n",
    "    float const pi = 3.141592653589793238;\n",
    "    float const _volume;\n",
    "};\n",
    "\n",
    "// Test\n",
    "int main(void) {\n",
    "  Sphere sphere(5);\n",
    "  assert(sphere.Radius() == 5);\n",
    "  assert(abs(sphere.Volume() - 523.6) < 1);\n",
    "}\n",
    "```"
   ]
  },
  {
   "cell_type": "markdown",
   "id": "86000044",
   "metadata": {},
   "source": [
    "## Inheritance"
   ]
  },
  {
   "cell_type": "markdown",
   "id": "d4e7ae43",
   "metadata": {},
   "source": [
    "### Example\n",
    "\n",
    "```C++\n",
    "class Vehicle {\n",
    "public:\n",
    "  int wheels = 0;\n",
    "  string color = \"blue\";\n",
    "\n",
    "  void Print() const\n",
    "  {\n",
    "    std::cout << \"This \" << color << \" vehicle has \" << wheels << \" wheels!\\n\";\n",
    "  }\n",
    "};\n",
    "\n",
    "\n",
    "class Car : public Vehicle {\n",
    "public:\n",
    "  bool sunroof = false;\n",
    "};\n",
    "\n",
    "class Bicycle : public Vehicle {\n",
    "public:\n",
    "  bool kickstand = true;\n",
    "};\n",
    "\n",
    "\n",
    "```"
   ]
  },
  {
   "cell_type": "markdown",
   "id": "9e392de6",
   "metadata": {},
   "source": [
    "### Public, Private, Protected Access Specifiers"
   ]
  },
  {
   "cell_type": "markdown",
   "id": "80818d11",
   "metadata": {},
   "source": [
    "When a Class is derived as public, it can directly access the parent class member function. When it is derived as private or protected, the derive claass can't access the data directly. They have to create another function to access the member data. \n",
    "\n",
    "#### Example \n",
    "\n",
    "``` C++ \n",
    "// This example demonstrates the privacy levels\n",
    "// between parent and child classes\n",
    "#include <iostream>\n",
    "#include <string>\n",
    "using std::string;\n",
    "\n",
    "class Vehicle {\n",
    "public:\n",
    "    int wheels = 0;\n",
    "    string color = \"blue\";\n",
    "    \n",
    "    void Print() const\n",
    "    {\n",
    "        std::cout << \"This \" << color << \" vehicle has \" << wheels << \" wheels!\\n\";\n",
    "    }\n",
    "};\n",
    "\n",
    "class Car : public Vehicle {\n",
    "public:\n",
    "    bool sunroof = false;\n",
    "};\n",
    "\n",
    "class Bicycle : protected Vehicle {\n",
    "public:\n",
    "    bool kickstand = true;\n",
    "    void Wheels(int w)\n",
    "    {\n",
    "        wheels = w;\n",
    "    }\n",
    "};\n",
    "\n",
    "class Scooter : private Vehicle {\n",
    "public:\n",
    "    bool electric = false;\n",
    "    void Wheels(int w)\n",
    "    {\n",
    "        wheels = w;\n",
    "    }\n",
    "};\n",
    "\n",
    "int main() \n",
    "{\n",
    "    Car car;\n",
    "    car.wheels = 4;\n",
    "    Bicycle bicycle;\n",
    "    bicycle.Wheels(2);\n",
    "    Scooter scooter;\n",
    "    scooter.Wheels(1);\n",
    "};\n",
    "```\n",
    "\n",
    "2)\n",
    "\n",
    "``` C++ \n",
    "\n",
    "// Example solution for Animal class\n",
    "#include <iostream>\n",
    "#include <string>\n",
    "\n",
    "// Define base class Animal\n",
    "class Animal {\n",
    "public:\n",
    "    std::string color;\n",
    "    std::string name;\n",
    "    int age;\n",
    "};\n",
    "\n",
    "// Declare derived class Snake\n",
    "class Snake : public Animal {\n",
    "public:\n",
    "    int length;\n",
    "    \n",
    "    void MakeSound() const\n",
    "    {\n",
    "        std::cout << \"Hiss\\n\";\n",
    "    }\n",
    "};\n",
    "\n",
    "// Declare derived class Cat\n",
    "class Cat : public Animal {\n",
    "public:\n",
    "    int height;\n",
    "\n",
    "    void MakeSound() const\n",
    "    {\n",
    "        std::cout << \"Meow\\n\";\n",
    "    }\n",
    "};\n",
    "\n",
    "// Test in main()\n",
    "int main() {\n",
    "\n",
    "    Cat cat;\n",
    "    Snake snake;\n",
    "\n",
    "    cat.age = 10;\n",
    "    cat.name = \"Lucy\";\n",
    "    cat.MakeSound();\n",
    "    snake.MakeSound();\n",
    "\n",
    "    std::cout << cat.age << \" \" << cat.name << \"\\n\";\n",
    "}\n",
    "\n",
    "```"
   ]
  },
  {
   "cell_type": "markdown",
   "id": "88f4d51e",
   "metadata": {},
   "source": [
    "### Multilevel Inheritance"
   ]
  },
  {
   "cell_type": "markdown",
   "id": "5375f53b",
   "metadata": {},
   "source": [
    "#### Example \n",
    "\n",
    "``` C++\n",
    "\n",
    "#include <cassert>\n",
    "\n",
    "// TODO: Declare Vehicle as the base class\n",
    "class Vehicle {};\n",
    "\n",
    "// TODO: Derive Car from Vehicle\n",
    "class Car : public Vehicle {\n",
    "public:\n",
    "    int wheels{4};\n",
    "};\n",
    "\n",
    "// TODO: Derive Sedan from Car\n",
    "class Sedan : public Car {\n",
    "public:\n",
    "    bool trunk{true};\n",
    "    int seats{4};\n",
    "};\n",
    "\n",
    "// TODO: Update main to pass the tests\n",
    "int main() {\n",
    "  Sedan sedan;\n",
    "  assert(sedan.trunk == true);\n",
    "  assert(sedan.seats == 4);\n",
    "  assert(sedan.wheels == 4);\n",
    "}\n",
    "\n",
    "```"
   ]
  },
  {
   "cell_type": "markdown",
   "id": "acaf7604",
   "metadata": {},
   "source": [
    "### Friends "
   ]
  },
  {
   "cell_type": "markdown",
   "id": "7d0e8f4e",
   "metadata": {},
   "source": [
    "Friend Class A friend class can access private and protected members of other class in which it is declared as friend. It is sometimes useful to allow a particular class to access private members of other class."
   ]
  },
  {
   "cell_type": "markdown",
   "id": "ea4d842c",
   "metadata": {},
   "source": [
    "```C++\n",
    "// Example solution for Rectangle and Square friend classes\n",
    "#include <assert.h>\n",
    "\n",
    "// Declare class Rectangle\n",
    "class Rectangle;\n",
    "\n",
    "// Define class Square as friend of Rectangle\n",
    "class Square {\n",
    "// Add public constructor to Square, initialize side\n",
    "public:\n",
    "    Square(int s) : side(s) {}\n",
    "\n",
    "private:\n",
    "    // Add friend class Rectangle\n",
    "    friend class Rectangle;\n",
    "    // Add private attribute side to Square\n",
    "    int side;\n",
    "};\n",
    "\n",
    "// Define class Rectangle\n",
    "class Rectangle {\n",
    "// Add public functions to Rectangle: area() and convert()\n",
    "public:\n",
    "    Rectangle(const Square& a);\n",
    "    int Area() const;\n",
    "\n",
    "private:\n",
    "    // Add private attributes width, height\n",
    "    int width {0};\n",
    "    int height {0};\n",
    "};\n",
    "\n",
    " // Define a Rectangle constructor that takes a Square\n",
    "Rectangle::Rectangle(const Square& a) : width(a.side), height(a.side)\n",
    "{\n",
    "}\n",
    "\n",
    "// Define Area() to compute area of Rectangle\n",
    "int Rectangle::Area() const\n",
    "{\n",
    "    return width * height;\n",
    "}\n",
    "// Update main() to pass the tests\n",
    "int main()\n",
    "{\n",
    "    Square square(4);\n",
    "    Rectangle rectangle(square);\n",
    "    assert(rectangle.Area() == 16); \n",
    "}\n",
    "```"
   ]
  },
  {
   "cell_type": "markdown",
   "id": "13e5c8a8",
   "metadata": {},
   "source": [
    "## Polymorphism"
   ]
  },
  {
   "cell_type": "markdown",
   "id": "b6f53e84",
   "metadata": {},
   "source": [
    "[Polymorphism](\"https://www.merriam-webster.com/dictionary/polymorphism\") is means \"assuming many forms\".\n",
    "\n",
    "\n",
    "Polymorphism can be achieved in two ways in C++: overloading and overriding."
   ]
  },
  {
   "cell_type": "markdown",
   "id": "5f8a4255",
   "metadata": {},
   "source": [
    "#### Overloading"
   ]
  },
  {
   "cell_type": "markdown",
   "id": "340fa801",
   "metadata": {},
   "source": [
    "```C++\n",
    "\n",
    "#include <ctime>\n",
    "\n",
    "class Date {\n",
    "public:\n",
    "    Date(int day, int month, int year) : day_(day), month_(month), year_(year) {}\n",
    "    Date(int day, int month) : day_(day), month_(month)  // automatically sets the Date to the current year\n",
    "    {\n",
    "        time_t t = time(NULL);\n",
    "        tm* timePtr = localtime(&t);\n",
    "        year_ = timePtr->tm_year;\n",
    "    }\n",
    "\n",
    "private:\n",
    "    int day_;\n",
    "    int month_;\n",
    "    int year_;\n",
    "};\n",
    "```\n",
    "\n",
    "2)\n",
    "\n",
    "```C++\n",
    "#include <iostream>\n",
    "\n",
    "class Human {};\n",
    "class Dog {};\n",
    "class Cat {};\n",
    "\n",
    "// TODO: Write hello() function\n",
    "void hello() { std::cout << \"Hello, World!\\n\"; }\n",
    "\n",
    "// TODO: Overload hello() three times\n",
    "void hello(Human human) { std::cout << \"Hello, Human!\\n\"; }\n",
    "void hello(Dog dog) { std::cout << \"Hello, Dog!\\n\"; }\n",
    "void hello(Cat cat) { std::cout << \"Hello, Cat!\\n\"; }\n",
    "\n",
    "// TODO: Call hello() from main()\n",
    "int main()\n",
    "{\n",
    "    hello();\n",
    "    hello(Human());\n",
    "    hello(Dog());\n",
    "    hello(Cat());\n",
    "}\n",
    "```\n",
    "\n"
   ]
  },
  {
   "cell_type": "code",
   "execution_count": null,
   "id": "c01a042e",
   "metadata": {},
   "outputs": [],
   "source": []
  }
 ],
 "metadata": {
  "kernelspec": {
   "display_name": "C++17",
   "language": "C++17",
   "name": "xcpp17"
  },
  "language_info": {
   "codemirror_mode": "text/x-c++src",
   "file_extension": ".cpp",
   "mimetype": "text/x-c++src",
   "name": "c++",
   "version": "17"
  },
  "toc": {
   "base_numbering": 1,
   "nav_menu": {},
   "number_sections": true,
   "sideBar": true,
   "skip_h1_title": false,
   "title_cell": "Table of Contents",
   "title_sidebar": "Table Of Contents",
   "toc_cell": false,
   "toc_position": {
    "height": "calc(100% - 180px)",
    "left": "10px",
    "top": "150px",
    "width": "165px"
   },
   "toc_section_display": true,
   "toc_window_display": true
  },
  "varInspector": {
   "cols": {
    "lenName": 16,
    "lenType": 16,
    "lenVar": 40
   },
   "kernels_config": {
    "python": {
     "delete_cmd_postfix": "",
     "delete_cmd_prefix": "del ",
     "library": "var_list.py",
     "varRefreshCmd": "print(var_dic_list())"
    },
    "r": {
     "delete_cmd_postfix": ") ",
     "delete_cmd_prefix": "rm(",
     "library": "var_list.r",
     "varRefreshCmd": "cat(var_dic_list()) "
    }
   },
   "types_to_exclude": [
    "module",
    "function",
    "builtin_function_or_method",
    "instance",
    "_Feature"
   ],
   "window_display": false
  }
 },
 "nbformat": 4,
 "nbformat_minor": 5
}
