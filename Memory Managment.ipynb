{
 "cells": [
  {
   "cell_type": "markdown",
   "id": "30273e38",
   "metadata": {},
   "source": [
    "# Memory Addresses and Hexadecimal Numbers"
   ]
  },
  {
   "cell_type": "markdown",
   "id": "76d3546d",
   "metadata": {},
   "source": [
    "# Allocating Dynamic Memory"
   ]
  },
  {
   "cell_type": "markdown",
   "id": "0e6ce98b",
   "metadata": {},
   "source": [
    "Allocating Dynamic Memory\n",
    "\n",
    "To allocate dynamic memory on the heap means to make a contiguous memory area accessible to the program at runtime and to mark this memory as occupied so that no one else can write there by mistake.\n",
    "\n",
    "To reserve memory on the heap, one of the two functions `malloc` (stands for Memory Allocation) or `calloc` (stands for Cleared Memory Allocation) is used. The header file stdlib.h or malloc.h must be included to use the functions.\n",
    "\n",
    "Here is the syntax of malloc and calloc in C/C++:\n",
    "\n",
    "```Python\n",
    "pointer_name = (cast-type*) malloc(size);\n",
    "\n",
    "pointer_name = (cast-type*) calloc(num_elems, size_elem);\n",
    "```"
   ]
  },
  {
   "cell_type": "markdown",
   "id": "fe794428",
   "metadata": {},
   "source": [
    "`malloc` is used to dynamically allocate a single large block of memory with the specified size. It returns a pointer of type void which can be cast into a pointer of any form.\n",
    "\n",
    "`calloc` is used to dynamically allocate the specified number of blocks of memory of the specified type. It initializes each block with a default value '0'."
   ]
  },
  {
   "cell_type": "code",
   "execution_count": null,
   "id": "a869ce2c",
   "metadata": {},
   "outputs": [],
   "source": []
  }
 ],
 "metadata": {
  "kernelspec": {
   "display_name": "Python 3 (ipykernel)",
   "language": "python",
   "name": "python3"
  },
  "language_info": {
   "codemirror_mode": {
    "name": "ipython",
    "version": 3
   },
   "file_extension": ".py",
   "mimetype": "text/x-python",
   "name": "python",
   "nbconvert_exporter": "python",
   "pygments_lexer": "ipython3",
   "version": "3.10.4"
  },
  "toc": {
   "base_numbering": 1,
   "nav_menu": {},
   "number_sections": true,
   "sideBar": true,
   "skip_h1_title": false,
   "title_cell": "Table of Contents",
   "title_sidebar": "Contents",
   "toc_cell": false,
   "toc_position": {},
   "toc_section_display": true,
   "toc_window_display": false
  }
 },
 "nbformat": 4,
 "nbformat_minor": 5
}
